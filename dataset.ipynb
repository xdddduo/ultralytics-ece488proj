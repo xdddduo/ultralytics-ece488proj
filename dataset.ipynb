{
          "cells": [
                    {
                              "cell_type": "code",
                              "execution_count": 1,
                              "id": "a3c40b67",
                              "metadata": {},
                              "outputs": [
                                        {
                                                  "name": "stdout",
                                                  "output_type": "stream",
                                                  "text": [
                                                            "loading Roboflow workspace...\n",
                                                            "loading Roboflow project...\n"
                                                  ]
                                        },
                                        {
                                                  "name": "stderr",
                                                  "output_type": "stream",
                                                  "text": [
                                                            "Downloading Dataset Version Zip in dentex-2 to yolov8:: 100%|██████████| 246751/246751 [00:11<00:00, 20618.58it/s]"
                                                  ]
                                        },
                                        {
                                                  "name": "stdout",
                                                  "output_type": "stream",
                                                  "text": [
                                                            "\n"
                                                  ]
                                        },
                                        {
                                                  "name": "stderr",
                                                  "output_type": "stream",
                                                  "text": [
                                                            "\n",
                                                            "Extracting Dataset Version Zip to dentex-2 in yolov8:: 100%|██████████| 2168/2168 [00:00<00:00, 6855.42it/s]\n"
                                                  ]
                                        }
                              ],
                              "source": [
                                        "#install dataset\n",
                                        "\n",
                                        "from roboflow import Roboflow\n",
                                        "rf = Roboflow(api_key=\"k7jMaiVY9ij9FtCTHG0S\")\n",
                                        "project = rf.workspace(\"dentex\").project(\"dentex-3xe7e\")\n",
                                        "version = project.version(2)\n",
                                        "dataset = version.download(\"yolov8\")"
                              ]
                    },
                    {
                              "cell_type": "code",
                              "execution_count": null,
                              "id": "4f293a8c",
                              "metadata": {},
                              "outputs": [
                                        {
                                                  "name": "stdout",
                                                  "output_type": "stream",
                                                  "text": [
                                                            "Processed 873 images from dentex-2/train/images → dentex-2-clahe/train/images\n",
                                                            "Processed 40 images from dentex-2/valid/images → dentex-2-clahe/valid/images\n",
                                                            "Processed 165 images from dentex-2/test/images → dentex-2-clahe/test/images\n"
                                                  ]
                                        }
                              ],
                              "source": [
                                        "# data preprocessing\n",
                                        "\n",
                                        "# enhance contrast\n",
                                        "import cv2\n",
                                        "import os\n",
                                        "from pathlib import Path\n",
                                        "from shutil import copy2\n",
                                        "\n",
                                        "def apply_clahe_to_folder(input_dir, output_dir):\n",
                                        "    os.makedirs(output_dir, exist_ok=True)\n",
                                        "    img_paths = list(Path(input_dir).rglob(\"*.jpg\")) + list(Path(input_dir).rglob(\"*.png\"))\n",
                                        "    count = 0\n",
                                        "\n",
                                        "    for path in img_paths:\n",
                                        "        img = cv2.imread(str(path), cv2.IMREAD_GRAYSCALE)\n",
                                        "        if img is None:\n",
                                        "            print(f\"Skipping unreadable image: {path}\")\n",
                                        "            continue\n",
                                        "\n",
                                        "        # apply CLAHE\n",
                                        "        clahe = cv2.createCLAHE(clipLimit=2.0, tileGridSize=(8, 8))\n",
                                        "        img_clahe = clahe.apply(img)\n",
                                        "\n",
                                        "        # construct new path\n",
                                        "        relative_path = path.relative_to(input_dir)\n",
                                        "        output_path = Path(output_dir) / relative_path\n",
                                        "        output_path.parent.mkdir(parents=True, exist_ok=True)\n",
                                        "\n",
                                        "        # save processed image\n",
                                        "        cv2.imwrite(str(output_path), img_clahe)\n",
                                        "        count += 1\n",
                                        "\n",
                                        "    print(f\"Processed {count} images from {input_dir} → {output_dir}\")\n",
                                        "\n",
                                        "def copy_labels(input_base, output_base):\n",
                                        "    for split in [\"train\", \"valid\", \"test\"]:\n",
                                        "        label_src = Path(input_base) / split / \"labels\"\n",
                                        "        label_dst = Path(output_base) / split / \"labels\"\n",
                                        "        label_dst.mkdir(parents=True, exist_ok=True)\n",
                                        "        for file in label_src.glob(\"*.txt\"):\n",
                                        "            copy2(file, label_dst)\n",
                                        "\n",
                                        "original_base = \"dentex-2\"\n",
                                        "processed_base = \"dentex-2-clahe\"\n",
                                        "\n",
                                        "# apply CLAHE to each split\n",
                                        "for split in [\"train\", \"valid\", \"test\"]:\n",
                                        "    input_imgs = os.path.join(original_base, split, \"images\")\n",
                                        "    output_imgs = os.path.join(processed_base, split, \"images\")\n",
                                        "    apply_clahe_to_folder(input_imgs, output_imgs)\n",
                                        "\n",
                                        "# copy labels without modification\n",
                                        "copy_labels(original_base, processed_base)\n"
                              ]
                    },
                    {
                              "cell_type": "code",
                              "execution_count": null,
                              "id": "cca228f2",
                              "metadata": {},
                              "outputs": [
                                        {
                                                  "data": {
                                                            "text/plain": [
                                                                      "1078"
                                                            ]
                                                  },
                                                  "execution_count": 13,
                                                  "metadata": {},
                                                  "output_type": "execute_result"
                                        }
                              ],
                              "source": [
                                        "# data preprocessing\n",
                                        "\n",
                                        "# jaw cropping\n",
                                        "\n",
                                        "import cv2\n",
                                        "import os\n",
                                        "from pathlib import Path\n",
                                        "from shutil import copy2\n",
                                        "\n",
                                        "def crop_jaw_percent(input_dir, output_dir, percent=0.15):\n",
                                        "    os.makedirs(output_dir, exist_ok=True)\n",
                                        "    img_paths = list(Path(input_dir).rglob(\"*.jpg\")) + list(Path(input_dir).rglob(\"*.png\"))\n",
                                        "    count = 0\n",
                                        "\n",
                                        "    for path in img_paths:\n",
                                        "        img = cv2.imread(str(path))\n",
                                        "        if img is None:\n",
                                        "            print(f\"Skipping unreadable image: {path}\")\n",
                                        "            continue\n",
                                        "\n",
                                        "        h, w = img.shape[:2]\n",
                                        "        top = int(h * percent)\n",
                                        "        bottom = int(h * (1 - percent))\n",
                                        "        left = int(w * percent)\n",
                                        "        right = int(w * (1 - percent))\n",
                                        "\n",
                                        "        cropped_img = img[top:bottom, left:right]\n",
                                        "\n",
                                        "        relative_path = path.relative_to(input_dir)\n",
                                        "        output_path = Path(output_dir) / relative_path\n",
                                        "        output_path.parent.mkdir(parents=True, exist_ok=True)\n",
                                        "\n",
                                        "        cv2.imwrite(str(output_path), cropped_img)\n",
                                        "        count += 1\n",
                                        "\n",
                                        "    return count\n",
                                        "\n",
                                        "def copy_labels(input_base, output_base):\n",
                                        "    for split in [\"train\", \"valid\", \"test\"]:\n",
                                        "        label_src = Path(input_base) / split / \"labels\"\n",
                                        "        label_dst = Path(output_base) / split / \"labels\"\n",
                                        "        label_dst.mkdir(parents=True, exist_ok=True)\n",
                                        "        for file in label_src.glob(\"*.txt\"):\n",
                                        "            copy2(file, label_dst)\n",
                                        "\n",
                                        "original_base = \"dentex-2-clahe\"\n",
                                        "processed_base = \"dentex-2-clahe-cropped\"\n",
                                        "\n",
                                        "# apply cropping\n",
                                        "total_cropped = 0\n",
                                        "for split in [\"train\", \"valid\", \"test\"]:\n",
                                        "    input_imgs = os.path.join(original_base, split, \"images\")\n",
                                        "    output_imgs = os.path.join(processed_base, split, \"images\")\n",
                                        "    total_cropped += crop_jaw_percent(input_imgs, output_imgs, percent=0.15)\n",
                                        "\n",
                                        "copy_labels(original_base, processed_base)\n"
                              ]
                    },
                    {
                              "cell_type": "code",
                              "execution_count": 1,
                              "id": "0a2c6285",
                              "metadata": {},
                              "outputs": [
                                        {
                                                  "name": "stdout",
                                                  "output_type": "stream",
                                                  "text": [
                                                            "Cleaned 873 label files. 775 files retained with class 0 only.\n",
                                                            "Cleaned 40 label files. 38 files retained with class 0 only.\n",
                                                            "Cleaned 165 label files. 144 files retained with class 0 only.\n"
                                                  ]
                                        }
                              ],
                              "source": [
                                        "import os\n",
                                        "from pathlib import Path\n",
                                        "\n",
                                        "def keep_only_class_0_labels(label_dir):\n",
                                        "    label_paths = list(Path(label_dir).rglob(\"*.txt\"))\n",
                                        "    kept, total = 0, 0\n",
                                        "\n",
                                        "    for label_path in label_paths:\n",
                                        "        total += 1\n",
                                        "        with open(label_path, 'r') as f:\n",
                                        "            lines = f.readlines()\n",
                                        "\n",
                                        "        # Keep only lines where the class ID is '0'\n",
                                        "        lines_class_0 = [line for line in lines if line.strip().startswith('0 ')]\n",
                                        "\n",
                                        "        # Overwrite only if class 0 exists\n",
                                        "        if lines_class_0:\n",
                                        "            with open(label_path, 'w') as f:\n",
                                        "                f.writelines(lines_class_0)\n",
                                        "            kept += 1\n",
                                        "        else:\n",
                                        "            # Optionally: remove label file if no class 0 exists\n",
                                        "            os.remove(label_path)\n",
                                        "\n",
                                        "    print(f\"Cleaned {total} label files. {kept} files retained with class 0 only.\")\n",
                                        "\n",
                                        "# Example usage: run for train, valid, test sets\n",
                                        "base_dir = \"dentex-2-clahe-cropped\"\n",
                                        "for split in [\"train\", \"valid\", \"test\"]:\n",
                                        "    label_dir = os.path.join(base_dir, split, \"labels\")\n",
                                        "    keep_only_class_0_labels(label_dir)\n"
                              ]
                    }
          ],
          "metadata": {
                    "kernelspec": {
                              "display_name": "env",
                              "language": "python",
                              "name": "python3"
                    },
                    "language_info": {
                              "codemirror_mode": {
                                        "name": "ipython",
                                        "version": 3
                              },
                              "file_extension": ".py",
                              "mimetype": "text/x-python",
                              "name": "python",
                              "nbconvert_exporter": "python",
                              "pygments_lexer": "ipython3",
                              "version": "3.13.3"
                    }
          },
          "nbformat": 4,
          "nbformat_minor": 5
}
